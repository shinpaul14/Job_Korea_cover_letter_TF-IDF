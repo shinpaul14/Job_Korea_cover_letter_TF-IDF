{
 "cells": [
  {
   "cell_type": "code",
   "execution_count": 53,
   "metadata": {},
   "outputs": [],
   "source": [
    "import pandas as pd\n",
    "import nltk\n",
    "from nltk.corpus import stopwords\n",
    "import konlpy\n",
    "from konlpy.tag import Twitter\n",
    "from collections import Counter\n",
    "import pickle \n",
    "from tqdm import tnrange\n",
    "from tqdm import tqdm"
   ]
  },
  {
   "cell_type": "markdown",
   "metadata": {},
   "source": [
    "## 01. File Loading"
   ]
  },
  {
   "cell_type": "code",
   "execution_count": 54,
   "metadata": {},
   "outputs": [],
   "source": [
    "with open('essay_df_2.pkl', 'rb') as f:\n",
    "    essay_df = pickle.load(f)"
   ]
  },
  {
   "cell_type": "code",
   "execution_count": 55,
   "metadata": {},
   "outputs": [
    {
     "data": {
      "text/html": [
       "<div>\n",
       "<style scoped>\n",
       "    .dataframe tbody tr th:only-of-type {\n",
       "        vertical-align: middle;\n",
       "    }\n",
       "\n",
       "    .dataframe tbody tr th {\n",
       "        vertical-align: top;\n",
       "    }\n",
       "\n",
       "    .dataframe thead th {\n",
       "        text-align: right;\n",
       "    }\n",
       "</style>\n",
       "<table border=\"1\" class=\"dataframe\">\n",
       "  <thead>\n",
       "    <tr style=\"text-align: right;\">\n",
       "      <th></th>\n",
       "      <th>company_id</th>\n",
       "      <th>company</th>\n",
       "      <th>year</th>\n",
       "      <th>season</th>\n",
       "      <th>experience</th>\n",
       "      <th>position</th>\n",
       "      <th>score</th>\n",
       "      <th>feedback</th>\n",
       "      <th>content</th>\n",
       "      <th>views</th>\n",
       "      <th>position_broad</th>\n",
       "    </tr>\n",
       "  </thead>\n",
       "  <tbody>\n",
       "    <tr>\n",
       "      <th>0</th>\n",
       "      <td>0</td>\n",
       "      <td>농협은행(주)</td>\n",
       "      <td>2020</td>\n",
       "      <td>상반기</td>\n",
       "      <td>신입</td>\n",
       "      <td>사무·총무·법무</td>\n",
       "      <td>2.0</td>\n",
       "      <td>전반적으로 호감을 주지 못하는 내용 성실히 쓰려고 노력한 점 질문의 의도에 맞지 ...</td>\n",
       "      <td>직장은 생계를 꾸려나가는 수단이기도 하지만 저의 가치관을 실현시킬 수 있는 곳이라고...</td>\n",
       "      <td>15,387</td>\n",
       "      <td>경영·사무</td>\n",
       "    </tr>\n",
       "  </tbody>\n",
       "</table>\n",
       "</div>"
      ],
      "text/plain": [
       "   company_id  company  year season experience  position  score  \\\n",
       "0           0  농협은행(주)  2020    상반기         신입  사무·총무·법무    2.0   \n",
       "\n",
       "                                            feedback  \\\n",
       "0   전반적으로 호감을 주지 못하는 내용 성실히 쓰려고 노력한 점 질문의 의도에 맞지 ...   \n",
       "\n",
       "                                             content   views position_broad  \n",
       "0  직장은 생계를 꾸려나가는 수단이기도 하지만 저의 가치관을 실현시킬 수 있는 곳이라고...  15,387          경영·사무  "
      ]
     },
     "execution_count": 55,
     "metadata": {},
     "output_type": "execute_result"
    }
   ],
   "source": [
    "essay_df.head(1)"
   ]
  },
  {
   "cell_type": "code",
   "execution_count": 56,
   "metadata": {},
   "outputs": [],
   "source": [
    "# [company] contents\n",
    "with open('content_list_2.pkl', 'rb') as f:\n",
    "    content_list = pickle.load(f)\n",
    "    \n",
    "# # [company] word_sorted_counted\n",
    "# sorted_counter_list = []  \n",
    "# with open('sorted_counter_list_2.pkl', 'rb') as f:\n",
    "#     sorted_counter_list = pickle.load(f)\n",
    "\n",
    "#[company] word_dic --countered\n",
    "with open('counter_list_2.pkl', 'rb') as f:\n",
    "    counter_list = pickle.load(f)\n",
    "    \n",
    "# [postion] job_counter(sorted)_list\n",
    "with open('position_counter_list.pkl', 'rb') as f:\n",
    "    job_counter_list = pickle.load(f)\n",
    "\n",
    "#[position] job_code_dic\n",
    "with open('position_code_dic.pkl', 'rb') as f:\n",
    "    job_code_dic = pickle.load(f)\n",
    "    \n",
    "#[company] company_code_dic\n",
    "with open('company_code_dict.pkl', 'rb') as f:\n",
    "    company_code_dict = pickle.load(f)"
   ]
  },
  {
   "cell_type": "code",
   "execution_count": 57,
   "metadata": {},
   "outputs": [],
   "source": [
    "#불용어 처리\n",
    "del_words = ['생각', '통해', '위해', '업무','경험', '대한', '노력', '회사', '배우다', '결과', '다양하다',\n",
    "             '직무', '크다','가장', '받다', '분야', '과정', '이르다', '다양하다', '수행', '전공', '맡다',\n",
    "             '모비스', '이루다', '영업', '시작', '오다', '필요하다', '새롭다', '현대', '인턴', '현장',\n",
    "             '나가다', '관련', '시장', '해보다', '산업', '역할', '발전', '가다', '사업', '모비스', '부서',\n",
    "             '직접', '입사', '상황', '영업', '동아리', '갖추다', '사용', '통해', '위해', '만들다', '받다',\n",
    "             '이르다', '이러하다', '얻다', '가다', '대해', '중요하다', '필요하다', '대한', '배우다', '많다',\n",
    "             '다양하다', '새롭다', '들다', '맡다', '오다', '늘다', '이루다', '통해', '위해', '많다',\n",
    "             '이러하다', '필요하다', '얻다', '오다', '크다', '가지', '대한', '이르다', '느끼다', '많다',\n",
    "             '해주다', '모든', '내다', '맡다', '들다', '나가다', '가다', '가지다', '받다', '만들다',\n",
    "             '배우다', '해주다', '따르다', '이루다', '주다', '내다', '여러', '생각', '받다', '만들다',\n",
    "             '배우다', '키우다', '많다', '통해', '위해', '대한', '이르다', '새롭다', '크다', '이러하다',\n",
    "             '느끼다', '들다', '필요하다', '얻다', '중요하다', '가다', '맡다', '이루다', '이러하다', '다양하다',\n",
    "             '필요하다', '오다', '해보다', '가장', '해주다', '가다' , '크다', '전기','이르다', '가지',\n",
    "             '이러하다', '대해', '필요하다', '가장', '크다', '바탕', '오다', '들다', \n",
    "             '농협', '삼성', 'GS', 'KT', '롯데', '한국전력공사', '한화', 'CJ', 'LG', 'SK']\n",
    "\n",
    "del_words_set = set(del_words)\n",
    "stopwords = pd.read_json('stopwords-ko.json')\n",
    "stopwords_list = list(stopwords[0])\n",
    "common_del_list = ['되어다','때문','그리고','좋다','자다','없다','같다','싶다','보다', '하다', '있다', '되다', '이다', '돼다', '않다', '그렇다', '아니다', '이렇다', '그렇다', '어떻다']\n",
    "del_list = stopwords_list + common_del_list + list(del_words_set)\n",
    "\n",
    "def counter(contents): \n",
    "    \n",
    "    twitter = Twitter()\n",
    "    raw_pos_tagged = twitter.pos(contents, norm=True, stem=True) \n",
    " \n",
    "    word_cleaned = []\n",
    "    \n",
    "    for word, tag in raw_pos_tagged: \n",
    "        if not tag in [\"Josa\", \"Eomi\", \"Punctuation\", \"Foreign\"]: \n",
    "            if (len(word) != 1) & (word not in del_list): \n",
    "                word_cleaned.append(word)\n",
    "\n",
    "    word_counted = Counter(word_cleaned)\n",
    "    word_dic = dict(word_counted)\n",
    "    return word_dic\n"
   ]
  },
  {
   "cell_type": "markdown",
   "metadata": {},
   "source": [
    "## 02-1. 기업간 TF-IDF, Cosine Similarity"
   ]
  },
  {
   "cell_type": "code",
   "execution_count": 58,
   "metadata": {},
   "outputs": [
    {
     "data": {
      "text/plain": [
       "'\\n1) company\\n- tf_idf_1 ; 2개 회사간 코사인 유사도\\n- tf_idf ; 5개 회사간 전체/30개/단어 코사인 유사도 (heatmap)\\n2) job(position)\\n- tf_idf_job ; 5개 직무간 단어 코사인 유사도\\n'"
      ]
     },
     "execution_count": 58,
     "metadata": {},
     "output_type": "execute_result"
    }
   ],
   "source": [
    "'''\n",
    "1) company\n",
    "- tf_idf_1 ; 2개 회사간 코사인 유사도\n",
    "- tf_idf ; 5개 회사간 전체/30개/단어 코사인 유사도 (heatmap)\n",
    "2) job(position)\n",
    "- tf_idf_job ; 5개 직무간 단어 코사인 유사도\n",
    "'''"
   ]
  },
  {
   "cell_type": "code",
   "execution_count": 59,
   "metadata": {},
   "outputs": [],
   "source": [
    "from sklearn.feature_extraction.text import TfidfVectorizer\n",
    "from sklearn.metrics.pairwise import cosine_similarity"
   ]
  },
  {
   "cell_type": "code",
   "execution_count": 60,
   "metadata": {},
   "outputs": [],
   "source": [
    "#ver1: tf_idf between 2 company\n",
    "def tf_idf_1(a,b,contents=content_list):\n",
    "    corpus = [contents[a], contents[b]]\n",
    "    vectorizer = TfidfVectorizer()\n",
    "    X = vectorizer.fit_transform(corpus).todense()\n",
    "    print(\"Similarity between {} and {}: \".format(a,b), cosine_similarity(X[0], X[1]))"
   ]
  },
  {
   "cell_type": "code",
   "execution_count": 61,
   "metadata": {},
   "outputs": [
    {
     "name": "stdout",
     "output_type": "stream",
     "text": [
      "Similarity between 1 and 2:  [[0.91424163]]\n"
     ]
    }
   ],
   "source": [
    "tf_idf_1(1,2) #불용어 처리 X"
   ]
  },
  {
   "cell_type": "code",
   "execution_count": 62,
   "metadata": {},
   "outputs": [],
   "source": [
    "'''job/company counter의 단어만 수집(list)'''\n",
    " # ['농협단어들','롯데단어들',...] #['경영사무직..','...단어들..']\n",
    "def de_counter(countered): #para ; [농협dict, 롯데dict,..]\n",
    "    token_list =[]\n",
    "    words =''\n",
    "    try: #단일 회사 리스트 [농협dict]\n",
    "        for i in tqdm(range(len(countered.keys()))):\n",
    "            words += list(countered.keys())[i]+' '\n",
    "        token_list.append(words)\n",
    "    except:#여러 회사 리스트 [농협 dict, 롯데 dict,..]\n",
    "        for i in range(len(countered)):\n",
    "            words = ''.join(de_counter(countered[i]))\n",
    "            token_list.append(words)\n",
    "    return token_list"
   ]
  },
  {
   "cell_type": "code",
   "execution_count": 63,
   "metadata": {},
   "outputs": [
    {
     "name": "stderr",
     "output_type": "stream",
     "text": [
      "100%|██████████| 9279/9279 [00:01<00:00, 4866.04it/s]\n",
      "100%|██████████| 6072/6072 [00:00<00:00, 11067.09it/s]\n",
      "100%|██████████| 10261/10261 [00:01<00:00, 6326.11it/s]\n",
      "100%|██████████| 376/376 [00:00<00:00, 67011.91it/s]\n",
      "100%|██████████| 7423/7423 [00:00<00:00, 8183.31it/s]\n",
      "100%|██████████| 12967/12967 [00:02<00:00, 4625.35it/s]\n",
      "100%|██████████| 2425/2425 [00:00<00:00, 18180.85it/s]\n",
      "100%|██████████| 13096/13096 [00:03<00:00, 4255.41it/s]\n",
      "100%|██████████| 10723/10723 [00:02<00:00, 4764.44it/s]\n",
      "100%|██████████| 872/872 [00:00<00:00, 20260.65it/s]\n",
      "100%|██████████| 4988/4988 [00:00<00:00, 10785.77it/s]\n",
      "100%|██████████| 239/239 [00:00<00:00, 117395.32it/s]\n",
      "100%|██████████| 1149/1149 [00:00<00:00, 41760.59it/s]\n",
      "100%|██████████| 2049/2049 [00:00<00:00, 12282.54it/s]\n"
     ]
    },
    {
     "data": {
      "text/plain": [
       "'직장 생계 꾸리다 수단 가치관'"
      ]
     },
     "execution_count": 63,
     "metadata": {},
     "output_type": "execute_result"
    }
   ],
   "source": [
    "job_words=de_counter(job_counter_list)\n",
    "job_words[0][:16]"
   ]
  },
  {
   "cell_type": "code",
   "execution_count": 64,
   "metadata": {},
   "outputs": [],
   "source": [
    "'''random selecting of contents'''\n",
    "import random\n",
    "#get random content[:30] #return string\n",
    "def selecting30(company_code): #불용어 처리 O\n",
    "    selected_contents =[]\n",
    "    sampling = random.choices(list(essay_df.content[essay_df['company_id']==company_code].index), k=30)\n",
    "#     print(sampling)\n",
    "    contents=''\n",
    "    for idx in sampling:\n",
    "        contents += essay_df.content[idx]\n",
    "    return ''.join(de_counter(counter(contents))) #make all list values to one string"
   ]
  },
  {
   "cell_type": "code",
   "execution_count": 65,
   "metadata": {},
   "outputs": [],
   "source": [
    "'''\n",
    "ver2: tf_idf between several companies\n",
    "1)'n'; about all content -- contents_list\n",
    "2)'y'; about selected(30) contents(countered) --by selecting30\n",
    "'''\n",
    "def get_titles(codes):\n",
    "    titles=[]\n",
    "    for i in range(len(codes)):\n",
    "        titles.append(company_code_dict[i])\n",
    "    return titles\n",
    "\n",
    "import matplotlib.pyplot as plt\n",
    "plt.rc('font', family='AppleGothic')\n",
    "import seaborn as sns\n",
    "\n",
    "#tf_idf between several companies\n",
    "def tf_idf(contents=content_list[2:]):\n",
    "    codes=[]\n",
    "    corpus=[]\n",
    "\n",
    "    print(company_code_dict)\n",
    "    codes = list(map(int,input(\"plz enter company codes (5): \").split(\" \")))\n",
    "    titles=get_titles(codes)\n",
    "    selecting = str(input(\"you want limited contents? : (y/n)\").lower())\n",
    "    \n",
    "    if len(codes) != 5:\n",
    "        return print(\"ERROR: plz enter 5 of them!\")\n",
    "    else:\n",
    "        length = 5\n",
    "           \n",
    "    for i in tqdm(range(length)):\n",
    "        if codes[i] in company_code_dict.keys():\n",
    "            if selecting == 'y':\n",
    "                corpus.append(selecting30(i))\n",
    "            else:\n",
    "                corpus.append(contents[i])\n",
    "        else:\n",
    "            return print(\"ERROR: codes are out of range!\")\n",
    "\n",
    "    vectorizer = TfidfVectorizer(stop_words='english') #stop_words='english'\n",
    "    X = vectorizer.fit_transform(corpus).todense()\n",
    "    similarity = cosine_similarity(X,X)\n",
    "    sns.heatmap(similarity,xticklabels=titles, yticklabels=titles,\n",
    "                annot=True,cmap='viridis',linewidths=.5)\n",
    "    plt.show()"
   ]
  },
  {
   "cell_type": "code",
   "execution_count": 66,
   "metadata": {},
   "outputs": [
    {
     "name": "stdout",
     "output_type": "stream",
     "text": [
      "{0: '농협', 1: '롯데', 2: '삼성', 3: '한국전력공사', 4: '한화', 5: '현대자동차', 6: 'CJ', 7: 'GS', 8: 'KT', 9: 'LG', 10: 'SK'}\n",
      "plz enter company codes (5): 0 1 2 3 4\n",
      "you want limited contents? : (y/n)n\n"
     ]
    },
    {
     "name": "stderr",
     "output_type": "stream",
     "text": [
      "100%|██████████| 5/5 [00:00<00:00, 19454.10it/s]\n"
     ]
    },
    {
     "data": {
      "image/png": "[encoded data removed]",
      "text/plain": [
       "<Figure size 432x288 with 2 Axes>"
      ]
     },
     "metadata": {
      "needs_background": "light"
     },
     "output_type": "display_data"
    }
   ],
   "source": [
    "#1) result of original contents -- 불용어 처리 X\n",
    "tf_idf()"
   ]
  },
  {
   "cell_type": "code",
   "execution_count": 67,
   "metadata": {},
   "outputs": [
    {
     "name": "stderr",
     "output_type": "stream",
     "text": [
      "100%|██████████| 5188/5188 [00:00<00:00, 9262.77it/s]\n",
      "100%|██████████| 7866/7866 [00:01<00:00, 7207.38it/s]\n",
      "100%|██████████| 13052/13052 [00:03<00:00, 4082.69it/s]\n",
      "100%|██████████| 7692/7692 [00:01<00:00, 7499.63it/s]\n",
      "100%|██████████| 5970/5970 [00:00<00:00, 10804.00it/s]\n",
      "100%|██████████| 10915/10915 [00:01<00:00, 5838.86it/s]\n",
      "100%|██████████| 8848/8848 [00:01<00:00, 5034.46it/s]\n",
      "100%|██████████| 7355/7355 [00:01<00:00, 7062.19it/s]\n",
      "100%|██████████| 6547/6547 [00:00<00:00, 8512.68it/s]\n",
      "100%|██████████| 8143/8143 [00:01<00:00, 4661.49it/s]\n",
      "100%|██████████| 12230/12230 [00:02<00:00, 4725.82it/s]\n"
     ]
    },
    {
     "name": "stdout",
     "output_type": "stream",
     "text": [
      "{0: '농협', 1: '롯데', 2: '삼성', 3: '한국전력공사', 4: '한화', 5: '현대자동차', 6: 'CJ', 7: 'GS', 8: 'KT', 9: 'LG', 10: 'SK'}\n",
      "plz enter company codes (5): 0 1 2 3 4\n",
      "you want limited contents? : (y/n)n\n"
     ]
    },
    {
     "name": "stderr",
     "output_type": "stream",
     "text": [
      "100%|██████████| 5/5 [00:00<00:00, 43062.67it/s]\n"
     ]
    },
    {
     "data": {
      "image/png": "[encoded data removed]",
      "text/plain": [
       "<Figure size 432x288 with 2 Axes>"
      ]
     },
     "metadata": {
      "needs_background": "light"
     },
     "output_type": "display_data"
    }
   ],
   "source": [
    "#2)result of words_countered(from contents)\n",
    "tf_idf(de_counter(counter_list[2:]))"
   ]
  },
  {
   "cell_type": "code",
   "execution_count": 68,
   "metadata": {},
   "outputs": [
    {
     "name": "stdout",
     "output_type": "stream",
     "text": [
      "{0: '농협', 1: '롯데', 2: '삼성', 3: '한국전력공사', 4: '한화', 5: '현대자동차', 6: 'CJ', 7: 'GS', 8: 'KT', 9: 'LG', 10: 'SK'}\n",
      "plz enter company codes (5): 0 1 2 3 4\n",
      "you want limited contents? : (y/n)y\n"
     ]
    },
    {
     "name": "stderr",
     "output_type": "stream",
     "text": [
      "  0%|          | 0/5 [00:00<?, ?it/s]/Users/ongi/anaconda3/lib/python3.7/site-packages/konlpy/tag/_okt.py:16: UserWarning: \"Twitter\" has changed to \"Okt\" since KoNLPy v0.4.5.\n",
      "  warn('\"Twitter\" has changed to \"Okt\" since KoNLPy v0.4.5.')\n",
      "\n",
      "  0%|          | 0/3277 [00:00<?, ?it/s]\u001b[A\n",
      " 18%|█▊        | 578/3277 [00:00<00:00, 5220.94it/s]\u001b[A\n",
      " 34%|███▎      | 1101/3277 [00:00<00:00, 4680.70it/s]\u001b[A\n",
      " 57%|█████▋    | 1878/3277 [00:00<00:00, 5973.40it/s]\u001b[A\n",
      " 78%|███████▊  | 2543/3277 [00:00<00:00, 6225.26it/s]\u001b[A\n",
      "100%|██████████| 3277/3277 [00:00<00:00, 5858.08it/s]\u001b[A\n",
      " 20%|██        | 1/5 [00:11<00:45, 11.33s/it]/Users/ongi/anaconda3/lib/python3.7/site-packages/konlpy/tag/_okt.py:16: UserWarning: \"Twitter\" has changed to \"Okt\" since KoNLPy v0.4.5.\n",
      "  warn('\"Twitter\" has changed to \"Okt\" since KoNLPy v0.4.5.')\n",
      "\n",
      "  0%|          | 0/3380 [00:00<?, ?it/s]\u001b[A\n",
      " 26%|██▌       | 886/3380 [00:00<00:00, 8850.89it/s]\u001b[A\n",
      " 52%|█████▏    | 1772/3380 [00:00<00:00, 7308.81it/s]\u001b[A\n",
      "100%|██████████| 3380/3380 [00:00<00:00, 7790.74it/s]\u001b[A\n",
      " 40%|████      | 2/5 [00:20<00:31, 10.35s/it]/Users/ongi/anaconda3/lib/python3.7/site-packages/konlpy/tag/_okt.py:16: UserWarning: \"Twitter\" has changed to \"Okt\" since KoNLPy v0.4.5.\n",
      "  warn('\"Twitter\" has changed to \"Okt\" since KoNLPy v0.4.5.')\n",
      "\n",
      "  0%|          | 0/3443 [00:00<?, ?it/s]\u001b[A\n",
      " 16%|█▌        | 535/3443 [00:00<00:00, 5347.81it/s]\u001b[A\n",
      " 31%|███       | 1070/3443 [00:00<00:00, 4634.49it/s]\u001b[A\n",
      " 57%|█████▋    | 1968/3443 [00:00<00:00, 6464.16it/s]\u001b[A\n",
      " 77%|███████▋  | 2634/3443 [00:00<00:00, 6510.92it/s]\u001b[A\n",
      "100%|██████████| 3443/3443 [00:00<00:00, 6238.39it/s]\u001b[A\n",
      " 60%|██████    | 3/5 [00:30<00:20, 10.03s/it]/Users/ongi/anaconda3/lib/python3.7/site-packages/konlpy/tag/_okt.py:16: UserWarning: \"Twitter\" has changed to \"Okt\" since KoNLPy v0.4.5.\n",
      "  warn('\"Twitter\" has changed to \"Okt\" since KoNLPy v0.4.5.')\n",
      "\n",
      "  0%|          | 0/3011 [00:00<?, ?it/s]\u001b[A\n",
      " 31%|███▏      | 944/3011 [00:00<00:00, 9373.81it/s]\u001b[A\n",
      " 63%|██████▎   | 1882/3011 [00:00<00:00, 6609.66it/s]\u001b[A\n",
      "100%|██████████| 3011/3011 [00:00<00:00, 7394.36it/s]\u001b[A\n",
      " 80%|████████  | 4/5 [00:39<00:09,  9.68s/it]/Users/ongi/anaconda3/lib/python3.7/site-packages/konlpy/tag/_okt.py:16: UserWarning: \"Twitter\" has changed to \"Okt\" since KoNLPy v0.4.5.\n",
      "  warn('\"Twitter\" has changed to \"Okt\" since KoNLPy v0.4.5.')\n",
      "\n",
      "  0%|          | 0/2822 [00:00<?, ?it/s]\u001b[A\n",
      " 36%|███▌      | 1004/2822 [00:00<00:00, 10036.90it/s]\u001b[A\n",
      "100%|██████████| 2822/2822 [00:00<00:00, 10025.54it/s]\u001b[A\n",
      "100%|██████████| 5/5 [00:48<00:00,  9.65s/it]\n"
     ]
    },
    {
     "data": {
      "image/png": "[encoded data removed]",
      "text/plain": [
       "<Figure size 432x288 with 2 Axes>"
      ]
     },
     "metadata": {
      "needs_background": "light"
     },
     "output_type": "display_data"
    }
   ],
   "source": [
    "#3)result of selected contentes(;countered)\n",
    "tf_idf()"
   ]
  },
  {
   "cell_type": "markdown",
   "metadata": {},
   "source": [
    "- 결과값 확인"
   ]
  },
  {
   "cell_type": "code",
   "execution_count": 48,
   "metadata": {},
   "outputs": [
    {
     "name": "stderr",
     "output_type": "stream",
     "text": [
      "/Users/ongi/anaconda3/lib/python3.7/site-packages/konlpy/tag/_okt.py:16: UserWarning: \"Twitter\" has changed to \"Okt\" since KoNLPy v0.4.5.\n",
      "  warn('\"Twitter\" has changed to \"Okt\" since KoNLPy v0.4.5.')\n",
      "100%|██████████| 698/698 [00:00<00:00, 104925.25it/s]\n",
      "/Users/ongi/anaconda3/lib/python3.7/site-packages/konlpy/tag/_okt.py:16: UserWarning: \"Twitter\" has changed to \"Okt\" since KoNLPy v0.4.5.\n",
      "  warn('\"Twitter\" has changed to \"Okt\" since KoNLPy v0.4.5.')\n",
      "100%|██████████| 700/700 [00:00<00:00, 101983.84it/s]"
     ]
    },
    {
     "name": "stdout",
     "output_type": "stream",
     "text": [
      "Similarity between 0 and 1:  [[0.16853772]]\n"
     ]
    },
    {
     "name": "stderr",
     "output_type": "stream",
     "text": [
      "\n"
     ]
    }
   ],
   "source": [
    "#'농협'의 자소서 3개 추출 -- 빈도분석 후 단어 ; result1\n",
    "temp1 = random.choices(list(essay_df.content[essay_df['company_id']==0].index), k=3)\n",
    "contents=''\n",
    "for idx in temp1:\n",
    "    contents += essay_df.content[idx]\n",
    "result1 = ''.join(de_counter(counter(contents)))\n",
    "#'롯데'의 자소서 3개 추출 -- 빈도분석 후 단어 : result2\n",
    "temp2 = random.choices(list(essay_df.content[essay_df['company_id']==1].index), k=3)\n",
    "contents=''\n",
    "for idx in temp2:\n",
    "    contents += essay_df.content[idx]\n",
    "result2 = ''.join(de_counter(counter(contents)))\n",
    "\n",
    "temp_content =[result1,result2]\n",
    "tf_idf_1(0,1,temp_content) #두 회사간 빈도분석(0;농협, 1;롯데)"
   ]
  },
  {
   "cell_type": "markdown",
   "metadata": {},
   "source": [
    "## 02-2. 직무간 TF-IDF, Cosine Similarity"
   ]
  },
  {
   "cell_type": "code",
   "execution_count": 51,
   "metadata": {},
   "outputs": [],
   "source": [
    "def get_job_titles(codes):\n",
    "    titles=[]\n",
    "    for i in range(len(codes)):\n",
    "        titles.append(job_code_dic[i]) #job_code_dic\n",
    "    return titles\n",
    "\n",
    "import matplotlib.pyplot as plt\n",
    "# plt.rc('font', family='AppleGothic')\n",
    "import seaborn as sns\n",
    "\n",
    "#tf_idf between jobs\n",
    "def tf_idf_job(contents):\n",
    "    codes=[]\n",
    "    corpus=[]\n",
    "\n",
    "    print(job_code_dic)\n",
    "    codes = list(map(int,input(\"plz enter job codes (5): \").split(\" \")))\n",
    "    titles=get_job_titles(codes)\n",
    "    \n",
    "    if len(codes) != 5:\n",
    "        return print(\"ERROR: plz enter 5 of them!\")\n",
    "    else:\n",
    "        length = 5\n",
    "           \n",
    "    for i in tqdm(range(length)):\n",
    "        if codes[i] in job_code_dic.keys():\n",
    "            corpus.append(contents[i])\n",
    "        else:\n",
    "            return print(\"ERROR: codes are out of range!\")\n",
    "\n",
    "    vectorizer = TfidfVectorizer(stop_words='english') #stop_words='english'\n",
    "    X = vectorizer.fit_transform(corpus).todense()\n",
    "    similarity = cosine_similarity(X,X)\n",
    "    sns.heatmap(similarity,xticklabels=titles, yticklabels=titles,\n",
    "                annot=True,cmap='viridis',linewidths=.5)\n",
    "    plt.show()"
   ]
  },
  {
   "cell_type": "code",
   "execution_count": 52,
   "metadata": {},
   "outputs": [
    {
     "name": "stderr",
     "output_type": "stream",
     "text": [
      "100%|██████████| 9279/9279 [00:01<00:00, 5448.14it/s]\n",
      "100%|██████████| 6072/6072 [00:00<00:00, 10165.24it/s]\n",
      "100%|██████████| 10261/10261 [00:01<00:00, 6604.56it/s]\n",
      "100%|██████████| 376/376 [00:00<00:00, 219646.00it/s]\n",
      "100%|██████████| 7423/7423 [00:00<00:00, 8570.63it/s]\n",
      "100%|██████████| 12967/12967 [00:02<00:00, 4591.23it/s]\n",
      "100%|██████████| 2425/2425 [00:00<00:00, 25508.00it/s]\n",
      "100%|██████████| 13096/13096 [00:02<00:00, 4589.17it/s]\n",
      "100%|██████████| 10723/10723 [00:01<00:00, 5807.98it/s]\n",
      "100%|██████████| 872/872 [00:00<00:00, 23285.07it/s]\n",
      "100%|██████████| 4988/4988 [00:00<00:00, 7858.07it/s]\n",
      "100%|██████████| 239/239 [00:00<00:00, 20416.68it/s]\n",
      "100%|██████████| 1149/1149 [00:00<00:00, 46330.97it/s]\n",
      "100%|██████████| 2049/2049 [00:00<00:00, 19383.96it/s]\n"
     ]
    },
    {
     "name": "stdout",
     "output_type": "stream",
     "text": [
      "{0: '경영·사무', 1: '마케팅·광고·홍보', 2: 'IT·인터넷', 3: '디자인', 4: '무역·유통', 5: '영업·고객상담', 6: '서비스', 7: '연구개발·설계', 8: '생산·제조', 9: '교육', 10: '건설', 11: '의료', 12: '미디어', 13: '전문·특수직'}\n",
      "plz enter job codes (5): 0 1 2 3 4\n"
     ]
    },
    {
     "name": "stderr",
     "output_type": "stream",
     "text": [
      "100%|██████████| 5/5 [00:00<00:00, 20661.60it/s]\n"
     ]
    },
    {
     "data": {
      "image/png": "[encoded data removed]",
      "text/plain": [
       "<Figure size 432x288 with 2 Axes>"
      ]
     },
     "metadata": {
      "needs_background": "light"
     },
     "output_type": "display_data"
    }
   ],
   "source": [
    "#result of \n",
    "tf_idf_job(de_counter(job_counter_list))"
   ]
  }
 ],
 "metadata": {
  "kernelspec": {
   "display_name": "Python 3",
   "language": "python",
   "name": "python3"
  },
  "language_info": {
   "codemirror_mode": {
    "name": "ipython",
    "version": 3
   },
   "file_extension": ".py",
   "mimetype": "text/x-python",
   "name": "python",
   "nbconvert_exporter": "python",
   "pygments_lexer": "ipython3",
   "version": "3.7.3"
  }
 },
 "nbformat": 4,
 "nbformat_minor": 2
}
